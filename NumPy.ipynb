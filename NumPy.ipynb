{
  "nbformat": 4,
  "nbformat_minor": 0,
  "metadata": {
    "colab": {
      "provenance": [],
      "authorship_tag": "ABX9TyN0tW/P+9GpAyEmM7CsPxL+",
      "include_colab_link": true
    },
    "kernelspec": {
      "name": "python3",
      "display_name": "Python 3"
    },
    "language_info": {
      "name": "python"
    }
  },
  "cells": [
    {
      "cell_type": "markdown",
      "metadata": {
        "id": "view-in-github",
        "colab_type": "text"
      },
      "source": [
        "<a href=\"https://colab.research.google.com/github/Oliveira-LE/Python_1-s_passos/blob/main/NumPy.ipynb\" target=\"_parent\"><img src=\"https://colab.research.google.com/assets/colab-badge.svg\" alt=\"Open In Colab\"/></a>"
      ]
    },
    {
      "cell_type": "markdown",
      "source": [
        "Exercício de Desafio do curso de NumPy da Alura"
      ],
      "metadata": {
        "id": "iGgOfjvXIqGY"
      }
    },
    {
      "cell_type": "markdown",
      "source": [
        "Vamos usar um dataset que é uma versão modificada do arquivo Oranges vs. Grapefruit presente no seguinte site do Kaggle:  https://www.kaggle.com/datasets/joshmcadams/oranges-vs-grapefruit. O arquivo modificado está no GitHub: https://raw.githubusercontent.com/allanspadini/numpy/dados/citrus.csv"
      ],
      "metadata": {
        "id": "EyRY1iTW-Pm2"
      }
    },
    {
      "cell_type": "markdown",
      "source": [
        "Importação das Bibliotecas e Leitura dos dados"
      ],
      "metadata": {
        "id": "IjHZ3BK1Jb36"
      }
    },
    {
      "cell_type": "code",
      "execution_count": 28,
      "metadata": {
        "id": "YP0bPakR74me"
      },
      "outputs": [],
      "source": [
        "import matplotlib.pyplot as plt\n",
        "import numpy as np\n",
        "url = 'https://raw.githubusercontent.com/allanspadini/numpy/dados/citrus.csv'\n",
        "dados = np.loadtxt(url, delimiter=',',usecols=np.arange(1,6,1),skiprows=1)\n",
        "#usecols para pular a primeira coluna.\n",
        "#np.arange para criar a sequência de números que representam as colunas.\n",
        "#skiprows=1 para que a 1ª linha de texto seja desconsiderada na leitura do arquivo.\n"
      ]
    },
    {
      "cell_type": "code",
      "source": [
        "dados"
      ],
      "metadata": {
        "colab": {
          "base_uri": "https://localhost:8080/"
        },
        "id": "yHH36EoZ8BU7",
        "outputId": "ba1faf66-04a1-46a5-9b4e-18b3fff9dad4"
      },
      "execution_count": 29,
      "outputs": [
        {
          "output_type": "execute_result",
          "data": {
            "text/plain": [
              "array([[  2.96,  86.76, 172.  ,  85.  ,   2.  ],\n",
              "       [  3.91,  88.05, 166.  ,  78.  ,   3.  ],\n",
              "       [  4.42,  95.17, 156.  ,  81.  ,   2.  ],\n",
              "       ...,\n",
              "       [ 15.59, 256.5 , 168.  ,  82.  ,  20.  ],\n",
              "       [ 15.92, 260.14, 142.  ,  72.  ,  11.  ],\n",
              "       [ 16.45, 261.51, 152.  ,  74.  ,   2.  ]])"
            ]
          },
          "metadata": {},
          "execution_count": 29
        }
      ]
    },
    {
      "cell_type": "markdown",
      "source": [
        "Seleção dos Dados\n",
        "\n",
        "Criação de Arrays para Diametro e Peso de Laranjas e Toranjas\n",
        "\n",
        "Vizualização dos dados através de Gráfico com Matplotlib"
      ],
      "metadata": {
        "id": "nz0QLV1IKYkw"
      }
    },
    {
      "cell_type": "code",
      "source": [
        "#Seleção dos dados:\n",
        "diametro_laranja = dado[:5000,0]\n",
        "diametro_toranja = dado[5000:,0]\n",
        "peso_laranja = dado[:5000,1]\n",
        "peso_toranja = dado[5000:,1]\n",
        "\n",
        "#Visualização:\n",
        "plt.plot(diametro_laranja, peso_laranja)\n",
        "plt.plot(diametro_toranja, peso_toranja)"
      ],
      "metadata": {
        "colab": {
          "base_uri": "https://localhost:8080/",
          "height": 448
        },
        "id": "jvKv9ZX78UM4",
        "outputId": "f281d332-52e5-4f67-eda1-baae11ba903a"
      },
      "execution_count": 16,
      "outputs": [
        {
          "output_type": "execute_result",
          "data": {
            "text/plain": [
              "[<matplotlib.lines.Line2D at 0x78f405c99c30>]"
            ]
          },
          "metadata": {},
          "execution_count": 16
        },
        {
          "output_type": "display_data",
          "data": {
            "text/plain": [
              "<Figure size 640x480 with 1 Axes>"
            ],
            "image/png": "[encoded data removed]"
          },
          "metadata": {}
        }
      ]
    },
    {
      "cell_type": "code",
      "source": [
        "#Gráfico Melhorado\n",
        "fig, ax = plt.subplots(figsize=(5, 2.7), layout='constrained')\n",
        "ax.plot(diametro_laranja, peso_laranja, label='laranja')\n",
        "ax.plot(diametro_toranja, peso_toranja, label='toranja')\n",
        "ax.set_xlabel('Diametro (cm)')\n",
        "ax.set_ylabel('Peso (g)')\n",
        "ax.set_title(\"Peso X Diametro entre laranjas e toranjas \")\n",
        "ax.legend()"
      ],
      "metadata": {
        "colab": {
          "base_uri": "https://localhost:8080/",
          "height": 316
        },
        "id": "NfDxi8hTCdGw",
        "outputId": "f84c4130-b0e7-4c12-e1b8-e2b7a52a087d"
      },
      "execution_count": 27,
      "outputs": [
        {
          "output_type": "execute_result",
          "data": {
            "text/plain": [
              "<matplotlib.legend.Legend at 0x78f3fb688b50>"
            ]
          },
          "metadata": {},
          "execution_count": 27
        },
        {
          "output_type": "display_data",
          "data": {
            "text/plain": [
              "<Figure size 500x270 with 1 Axes>"
            ],
            "image/png": "[encoded data removed]"
          },
          "metadata": {}
        }
      ]
    },
    {
      "cell_type": "markdown",
      "source": [
        "Cálculo do coeficiente angular e linear para as retas de laranja e toranja."
      ],
      "metadata": {
        "id": "6F8YYRSULPvs"
      }
    },
    {
      "cell_type": "code",
      "source": [
        "# Onde X é o diâmtro e o Y é o peso.\n",
        "\n",
        "#Coeficientes da laranja:\n",
        "\n",
        "Y = peso_laranja\n",
        "X = diametro_laranja\n",
        "n = np.size(X)\n",
        "\n",
        "a = (n*np.sum(X*Y) - np.sum(X)*np.sum(Y))/(n*np.sum(X**2)-np.sum(X)**2)\n",
        "b = np.mean(Y) - a*np.mean(X)\n",
        "print(a)\n",
        "print(b)"
      ],
      "metadata": {
        "colab": {
          "base_uri": "https://localhost:8080/"
        },
        "id": "ckm4ORaB8t1B",
        "outputId": "12208663-0cdc-4aae-9011-af3c3af3e81d"
      },
      "execution_count": 31,
      "outputs": [
        {
          "output_type": "stream",
          "name": "stdout",
          "text": [
            "14.7997452319846\n",
            "27.38560381218413\n"
          ]
        }
      ]
    },
    {
      "cell_type": "code",
      "source": [
        "#Coeficientes da toranja:\n",
        "\n",
        "Y = peso_toranja\n",
        "X = diametro_toranja\n",
        "n = np.size(X)\n",
        "\n",
        "a = (n*np.sum(X*Y) - np.sum(X)*np.sum(Y))/(n*np.sum(X**2)-np.sum(X)**2)\n",
        "b = np.mean(Y) - a*np.mean(X)\n",
        "print(a)\n",
        "print(b)"
      ],
      "metadata": {
        "colab": {
          "base_uri": "https://localhost:8080/"
        },
        "id": "cL7DZL0XT70C",
        "outputId": "c3ee9550-0519-46c4-ba51-b02eff6e9376"
      },
      "execution_count": 32,
      "outputs": [
        {
          "output_type": "stream",
          "name": "stdout",
          "text": [
            "15.70884459360376\n",
            "17.007102876817726\n"
          ]
        }
      ]
    },
    {
      "cell_type": "markdown",
      "source": [
        "Calcular o coeficiente angular utilizando a geração de números aleatórios.\n",
        "Onde b=17"
      ],
      "metadata": {
        "id": "YrOa56-I-Brh"
      }
    },
    {
      "cell_type": "code",
      "source": [
        "#Para realizar essa etapa você pode fazer os seguintes passos:\n",
        "b=17\n",
        "norma = np.array([])\n",
        "np.random.seed(84)\n",
        "coef_angulares = np.random.uniform(low=0.0,high=30.0,size=100)\n",
        "\n",
        "for i in range(100):\n",
        "  norma = np.append(norma,np.linalg.norm(Y- (coef_angulares[i]*X+b)))"
      ],
      "metadata": {
        "id": "P1FfeWYOBdqk"
      },
      "execution_count": 35,
      "outputs": []
    },
    {
      "cell_type": "code",
      "source": [
        "np.min(norma)"
      ],
      "metadata": {
        "colab": {
          "base_uri": "https://localhost:8080/"
        },
        "id": "PYuEdi8FVH6S",
        "outputId": "1d030244-5460-4cbe-f376-5618e82bff2d"
      },
      "execution_count": 36,
      "outputs": [
        {
          "output_type": "execute_result",
          "data": {
            "text/plain": [
              "104.40529157196431"
            ]
          },
          "metadata": {},
          "execution_count": 36
        }
      ]
    },
    {
      "cell_type": "code",
      "source": [
        "norma"
      ],
      "metadata": {
        "colab": {
          "base_uri": "https://localhost:8080/"
        },
        "id": "XD1kawI6BkbN",
        "outputId": "02ed4283-7fb1-4364-bdb9-f4aa03ea3f6f"
      },
      "execution_count": 18,
      "outputs": [
        {
          "output_type": "execute_result",
          "data": {
            "text/plain": [
              "array([8129.40599425, 2237.47421229, 4562.21797178, 2456.84863103,\n",
              "       9029.06810699, 6592.81479528, 5811.30199969, 4271.51442237,\n",
              "       1362.54700746, 6584.98450471, 3687.48907311,   58.67230686,\n",
              "       8609.13265686, 3561.37135023, 2880.65474092,  769.96973468,\n",
              "       7155.57868147, 6747.96192851, 8128.02718228, 7042.71881878,\n",
              "       2179.59951314, 5720.40121597, 7618.04877309, 9134.89250219,\n",
              "       2491.29646669, 6291.35532368, 2631.14122869, 5156.40351208,\n",
              "       8816.73314544, 6450.63156641, 1089.62141771, 4118.48649733,\n",
              "       3301.46074445, 2950.60783859, 6315.78618712, 5951.21877865,\n",
              "       6037.965524  ,  102.29938813, 2950.00614176, 5425.04525111,\n",
              "       6306.76032995, 3515.32361871, 9111.01777029, 3790.95085877,\n",
              "       1325.15142421, 6779.65589784, 8178.07806076, 6097.31315036,\n",
              "       1097.10779514, 2110.76834195, 7872.50329683, 2390.65851705,\n",
              "        110.63783898, 1483.94159033,  760.93404373, 1078.47842986,\n",
              "       8024.1882049 , 4160.65580702, 8644.86453451, 3727.70863485,\n",
              "       5707.38687432, 2708.76128566,  622.92377677, 6162.11928432,\n",
              "       2585.14697252, 5520.97965507, 8652.03988537, 8858.49846085,\n",
              "       5774.28889314, 8496.28641096, 8734.79688805, 3820.7928991 ,\n",
              "       4834.79962662, 8916.52096446, 2624.18270807,  973.63293627,\n",
              "       5666.97692721,  267.60495458, 3826.47574566, 8337.29826831,\n",
              "        338.91320763, 4240.16025579, 3350.1549639 , 8577.61817821,\n",
              "       3828.67154325, 4278.41287883, 8262.60908313, 4173.31513579,\n",
              "       6101.89905635, 1457.14685146, 6725.52335971, 1561.26600565,\n",
              "        926.04799268,  198.86563443, 2041.90809989,  825.90821536,\n",
              "       1004.56140573, 4009.69429704, 3193.04967421, 3081.94408105])"
            ]
          },
          "metadata": {},
          "execution_count": 18
        }
      ]
    },
    {
      "cell_type": "code",
      "source": [
        "coef_angulares"
      ],
      "metadata": {
        "colab": {
          "base_uri": "https://localhost:8080/"
        },
        "id": "qKqF5wIiBrJ9",
        "outputId": "af2f7cbd-e1e8-42c9-c90a-526706e9219f"
      },
      "execution_count": 20,
      "outputs": [
        {
          "output_type": "execute_result",
          "data": {
            "text/plain": [
              "array([ 1.38122981, 11.10726948,  7.26954802, 18.85440015, 29.7033018 ,\n",
              "        3.91764148,  5.2076749 ,  7.74942173, 12.551969  ,  3.9305668 ,\n",
              "        8.71350376, 14.85918284, 29.01012944,  8.92169589, 19.55405809,\n",
              "       16.06838693, 26.61079143, 25.93794743, 28.21598469,  3.17499416,\n",
              "       18.39666959,  5.35772433,  2.22531178, 29.87798219, 10.68821932,\n",
              "       25.18423466, 19.14214247,  6.2887161 , 29.35280822,  4.15234091,\n",
              "       16.59669329,  8.00203135,  9.35075423,  9.92995032,  4.37492812,\n",
              "       24.62277514,  4.83352329, 14.95030108,  9.93094363,  5.84526794,\n",
              "        4.38982698, 20.60177977, 29.83857306,  8.54271236, 16.98575806,\n",
              "        3.60922643,  1.30088839,  4.73555879, 12.99042874, 11.31646296,\n",
              "        1.80529112, 18.74512405, 14.63389951, 12.35148368, 13.54604561,\n",
              "       16.5782834 , 28.04458097,  7.93242059,  0.53037966, 20.95237995,\n",
              "       24.22028342, 19.27028464, 15.82512199, 24.97090641, 10.53327999,\n",
              "        5.68690898,  0.51853556, 29.42174872, 24.33071825, 28.82385803,\n",
              "        0.3819315 ,  8.4934502 ,  6.8195916 ,  0.0819661 , 10.4688358 ,\n",
              "       13.19444647,  5.44591159, 15.23479681,  8.48406917, 28.56142166,\n",
              "       14.24557119,  7.80117928,  9.27036974,  0.64138088,  8.48044443,\n",
              "        7.73803418, 28.43813469, 21.68796718, 24.87150158, 17.20375632,\n",
              "        3.69858194, 17.37570081, 16.32640469, 14.48051899, 18.16933564,\n",
              "       16.16087747, 13.14333856, 21.41787055,  9.52972023,  9.71313571])"
            ]
          },
          "metadata": {},
          "execution_count": 20
        }
      ]
    },
    {
      "cell_type": "code",
      "source": [
        "coef_angulares[norma == np.min(norma)]"
      ],
      "metadata": {
        "colab": {
          "base_uri": "https://localhost:8080/"
        },
        "id": "pFB2PvvcVmxX",
        "outputId": "70053847-05a4-4928-fd10-3f93d454ec7a"
      },
      "execution_count": 38,
      "outputs": [
        {
          "output_type": "execute_result",
          "data": {
            "text/plain": [
              "array([15.82512199])"
            ]
          },
          "metadata": {},
          "execution_count": 38
        }
      ]
    }
  ]
}