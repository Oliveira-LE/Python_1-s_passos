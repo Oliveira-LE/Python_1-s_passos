{
  "nbformat": 4,
  "nbformat_minor": 0,
  "metadata": {
    "colab": {
      "provenance": [],
      "authorship_tag": "ABX9TyPE7edVb6cZy/2U+6+V4Kj6",
      "include_colab_link": true
    },
    "kernelspec": {
      "name": "python3",
      "display_name": "Python 3"
    },
    "language_info": {
      "name": "python"
    }
  },
  "cells": [
    {
      "cell_type": "markdown",
      "metadata": {
        "id": "view-in-github",
        "colab_type": "text"
      },
      "source": [
        "<a href=\"https://colab.research.google.com/github/Oliveira-LE/Python_1-s_passos/blob/main/Python_para_Data_Science.ipynb\" target=\"_parent\"><img src=\"https://colab.research.google.com/assets/colab-badge.svg\" alt=\"Open In Colab\"/></a>"
      ]
    },
    {
      "cell_type": "markdown",
      "source": [
        "Exercício: Praticar o uso de variáveis e da função input.\n",
        "Solucione os problemas propostos em código."
      ],
      "metadata": {
        "id": "OHiCtUKQ6iNh"
      }
    },
    {
      "cell_type": "markdown",
      "source": [
        "# **Coleta e amostragem de dados**"
      ],
      "metadata": {
        "id": "Gh9k4aDo6_iK"
      }
    },
    {
      "cell_type": "markdown",
      "source": [
        "1. Crie um programa que solicite à pessoa usuária digitar seu nome, e imprima “Olá, [nome]!”.\n",
        "2. Crie um programa que solicite à pessoa usuária digitar seu nome e idade, e imprima “Olá, [nome], você tem [idade] anos.”.\n",
        "3. Crie um programa que solicite à pessoa usuária digitar seu nome, idade e altura em metros, e imprima “Olá, [nome], você tem [idade] anos e mede [altura] metros!”."
      ],
      "metadata": {
        "id": "6sQG0mN57UC8"
      }
    },
    {
      "cell_type": "markdown",
      "source": [
        "# **Calculadora com operadores**"
      ],
      "metadata": {
        "id": "EnCY5HKB7Kvf"
      }
    },
    {
      "cell_type": "markdown",
      "source": [
        "1.  Crie um programa que solicite dois valores numéricos à pessoa usuária e imprima a soma dos dois valores.\n",
        "2.  Crie um programa que solicite três valores numéricos à pessoa usuária e imprima a soma dos três valores.\n",
        "3.  Crie um programa que solicite dois valores numéricos à pessoa usuária e imprima a subtração do primeiro pelo o segundo valor.\n",
        "4.  Crie um programa que solicite dois valores numéricos à pessoa usuária e imprima a multiplicação dos dois valores.\n",
        "5.  Crie um programa que solicite dois valores numéricos, um numerador e um denominador, e realize a divisão entre os dois valores. Deixe claro que o valor do denominador não pode ser 0.\n",
        "6.  Crie um programa que solicite dois valores numéricos, um operador e uma potência, e realize a exponenciação entre esses dois valores.\n",
        "7.  Crie um programa que solicite dois valores numéricos, um numerador e um denominador e realize a divisão inteira entre os dois valores. Deixe claro que o valor do denominador não pode ser 0.\n",
        "8.  Crie um programa que solicite dois valores numéricos, um numerador e um denominador, e retorne o resto da divisão entre os dois valores. Deixe claro que o valor do denominador não pode ser 0.\n",
        "9.  Crie um código que solicita 3 notas de um estudante e imprima a média das notas.\n",
        "10. Crie um código que calcule e imprima a média ponderada dos números 5, 12, 20 e 15 com pesos respectivamente iguais a 1, 2, 3 e 4."
      ],
      "metadata": {
        "id": "aIJUOP5K7xoH"
      }
    },
    {
      "cell_type": "markdown",
      "source": [
        "# **Editando textos**"
      ],
      "metadata": {
        "id": "NqRxWAj48KRJ"
      }
    },
    {
      "cell_type": "markdown",
      "source": [
        "1.   Crie uma variável chamada “frase” e atribua a ela uma string de sua escolha. Em seguida, imprima a frase na tela.\n",
        "2.   Crie um código que solicite uma frase e depois imprima a frase na tela.\n",
        "3.   Crie um código que solicite uma frase à pessoa usuária e imprima a mesma frase digitada mas com todas as letras maiúsculas.\n",
        "4.   Crie um código que solicite uma frase à pessoa usuária e imprima a mesma frase digitada mas com todas as letras minúsculas.\n",
        "5.   Crie uma variável chamada “frase” e atribua a ela uma string de sua escolha. Em seguida, imprima a frase sem espaços em branco no início e no fim.\n",
        "6.   Crie um código que solicite uma frase à pessoa usuária e imprima a mesma frase sem espaços em branco no início e no fim.\n",
        "7.   Crie um código que solicite uma frase à pessoa usuária e imprima a mesma frase sem espaços em branco no início e no fim e em letras minúsculas.\n",
        "8    Crie um código que solicite uma frase à pessoa usuária e imprima a mesma frase com todas as vogais “e” trocadas pela letra “f”.\n",
        "9    Crie um código que solicite uma frase à pessoa usuária e imprima a mesma frase com todas as vogais “a” trocadas pela caractere “@”.\n",
        "10.  Crie um código que solicite uma frase à pessoa usuária e imprima a mesma frase com todas as consoantes “s” trocadas pelo caractere “$”."
      ],
      "metadata": {
        "id": "rklKiEJg8Q5A"
      }
    },
    {
      "cell_type": "markdown",
      "source": [
        "# **Resolução**"
      ],
      "metadata": {
        "id": "jgYCGF2f8pYT"
      }
    },
    {
      "cell_type": "markdown",
      "source": [
        "# **Coleta e amostragem de dados**"
      ],
      "metadata": {
        "id": "EKHk5lpW8sHK"
      }
    },
    {
      "cell_type": "markdown",
      "source": [
        "1."
      ],
      "metadata": {
        "id": "MwRb8rf78zD7"
      }
    },
    {
      "cell_type": "code",
      "source": [
        "nome = input('Digite seu nome: ')\n",
        "print(f'Olá, {nome}.')"
      ],
      "metadata": {
        "colab": {
          "base_uri": "https://localhost:8080/"
        },
        "id": "DGrZl6wg9Efu",
        "outputId": "56cd7ee1-c0b8-4562-ad34-953adb8822e7"
      },
      "execution_count": 1,
      "outputs": [
        {
          "output_type": "stream",
          "name": "stdout",
          "text": [
            "Digite seu nome: Luciano\n",
            "Olá, Luciano.\n"
          ]
        }
      ]
    },
    {
      "cell_type": "markdown",
      "source": [
        "2."
      ],
      "metadata": {
        "id": "Gp661M1g9SkE"
      }
    },
    {
      "cell_type": "code",
      "source": [
        "nome = input('Digite seu nome: ')\n",
        "idade = int(input('Digite sua idade: '))\n",
        "print(f'Olá {nome}, você tem {idade} anos.')"
      ],
      "metadata": {
        "colab": {
          "base_uri": "https://localhost:8080/"
        },
        "id": "Yk2jsdRf9Xnj",
        "outputId": "0b545411-a772-406a-c052-54f146469bc7"
      },
      "execution_count": 2,
      "outputs": [
        {
          "output_type": "stream",
          "name": "stdout",
          "text": [
            "Digite seu nome: luciano\n",
            "Digite sua idade: 44\n",
            "Olá luciano, você tem 44 anos.\n"
          ]
        }
      ]
    },
    {
      "cell_type": "markdown",
      "source": [
        "3."
      ],
      "metadata": {
        "id": "dj9uUT2b9xMf"
      }
    },
    {
      "cell_type": "code",
      "source": [
        "nome = input('Digite seu nome: ')\n",
        "idade = int(input('Digite sua idade: '))\n",
        "altura = float(input('Digite sua altura: '))\n",
        "print(f'Olá {nome}, você tem {idade} anos e mede {altura} metros!')"
      ],
      "metadata": {
        "colab": {
          "base_uri": "https://localhost:8080/"
        },
        "id": "aSyzrsrw9vXv",
        "outputId": "8b306f6d-705f-43b9-8e7b-a59d2cc3a4c5"
      },
      "execution_count": 3,
      "outputs": [
        {
          "output_type": "stream",
          "name": "stdout",
          "text": [
            "Digite seu nome: Luciano\n",
            "Digite sua idade: 44\n",
            "Digite sua altura: 1.8\n",
            "Olá Luciano, você tem 44 anos e mede 1.8 metros!\n"
          ]
        }
      ]
    },
    {
      "cell_type": "markdown",
      "source": [
        "# **Calculadora com operadores**"
      ],
      "metadata": {
        "id": "udxuZypx-Abs"
      }
    },
    {
      "cell_type": "markdown",
      "source": [
        "1."
      ],
      "metadata": {
        "id": "2qVHErw1-Iyn"
      }
    },
    {
      "cell_type": "code",
      "source": [
        "a = int(input('Digite o primeiro valor: '))\n",
        "b = int(input('Digite o segundo valor: '))\n",
        "print(a+b)"
      ],
      "metadata": {
        "colab": {
          "base_uri": "https://localhost:8080/"
        },
        "id": "wmXHwWFn-NkS",
        "outputId": "b4860f06-9e97-4add-e396-55cb6af8638f"
      },
      "execution_count": 4,
      "outputs": [
        {
          "output_type": "stream",
          "name": "stdout",
          "text": [
            "Digite o primeiro valor: 3\n",
            "Digite o segundo valor: 7\n",
            "10\n"
          ]
        }
      ]
    },
    {
      "cell_type": "markdown",
      "source": [
        "2."
      ],
      "metadata": {
        "id": "_nZKNlmS-UzD"
      }
    },
    {
      "cell_type": "code",
      "source": [
        "a = int(input('Digite o primeiro valor: '))\n",
        "b = int(input('Digite o segundo valor: '))\n",
        "c = int(input('Digite o terceiro valor: '))\n",
        "print(a+b+c)"
      ],
      "metadata": {
        "colab": {
          "base_uri": "https://localhost:8080/"
        },
        "id": "HacNRj6K-Vui",
        "outputId": "915055b3-8430-4a0d-ffe2-83f97f037f1c"
      },
      "execution_count": 5,
      "outputs": [
        {
          "output_type": "stream",
          "name": "stdout",
          "text": [
            "Digite o primeiro valor: 2\n",
            "Digite o segundo valor: 3\n",
            "Digite o terceiro valor: 4\n",
            "9\n"
          ]
        }
      ]
    },
    {
      "cell_type": "markdown",
      "source": [
        "3."
      ],
      "metadata": {
        "id": "m8gX7S10-a_h"
      }
    },
    {
      "cell_type": "code",
      "source": [
        "a = int(input('Digite o primeiro valor: '))\n",
        "b = int(input('Digite o segundo valor: '))\n",
        "print(a-b)"
      ],
      "metadata": {
        "colab": {
          "base_uri": "https://localhost:8080/"
        },
        "id": "wyXRhSzF-cAg",
        "outputId": "0aecc445-ca41-4dd7-ccae-86a12e6b886c"
      },
      "execution_count": 6,
      "outputs": [
        {
          "output_type": "stream",
          "name": "stdout",
          "text": [
            "Digite o primeiro valor: 7\n",
            "Digite o segundo valor: 3\n",
            "4\n"
          ]
        }
      ]
    },
    {
      "cell_type": "markdown",
      "source": [
        "4."
      ],
      "metadata": {
        "id": "C-29-tWy-hVo"
      }
    },
    {
      "cell_type": "code",
      "source": [
        "a = int(input('Digite o primeiro valor: '))\n",
        "b = int(input('Digite o segundo valor: '))\n",
        "print(a*b)"
      ],
      "metadata": {
        "colab": {
          "base_uri": "https://localhost:8080/"
        },
        "id": "cJN2CB80-ihf",
        "outputId": "e75175e0-b06c-4495-804d-379caf3c07f5"
      },
      "execution_count": 7,
      "outputs": [
        {
          "output_type": "stream",
          "name": "stdout",
          "text": [
            "Digite o primeiro valor: 2\n",
            "Digite o segundo valor: 8\n",
            "16\n"
          ]
        }
      ]
    },
    {
      "cell_type": "markdown",
      "source": [
        "5."
      ],
      "metadata": {
        "id": "YhSiupWh-nvO"
      }
    },
    {
      "cell_type": "code",
      "source": [
        "numerador = int(input('Digite o numerador: '))\n",
        "denominador = int(input('Digite o denominador (OBS: o valor não pode ser nulo): '))\n",
        "print(numerador/denominador)"
      ],
      "metadata": {
        "colab": {
          "base_uri": "https://localhost:8080/"
        },
        "id": "NhXs_x2z-o3R",
        "outputId": "486ed870-0653-4164-c0a1-c406d591f731"
      },
      "execution_count": 8,
      "outputs": [
        {
          "output_type": "stream",
          "name": "stdout",
          "text": [
            "Digite o numerador: 8\n",
            "Digite o denominador (OBS: o valor não pode ser nulo): 6\n",
            "1.3333333333333333\n"
          ]
        }
      ]
    },
    {
      "cell_type": "markdown",
      "source": [
        "6."
      ],
      "metadata": {
        "id": "3UASpPoF-vDV"
      }
    },
    {
      "cell_type": "code",
      "source": [
        "operador = int(input('Digite o operador valor: '))\n",
        "potencia = int(input('Digite a potência valor: '))\n",
        "print(operador**potencia)"
      ],
      "metadata": {
        "colab": {
          "base_uri": "https://localhost:8080/"
        },
        "id": "9a-P3dLH-wEn",
        "outputId": "2fc40a10-9980-4bca-fe97-eca755dfc5e4"
      },
      "execution_count": 9,
      "outputs": [
        {
          "output_type": "stream",
          "name": "stdout",
          "text": [
            "Digite o operador valor: 9\n",
            "Digite a potência valor: 6\n",
            "531441\n"
          ]
        }
      ]
    },
    {
      "cell_type": "markdown",
      "source": [
        "7."
      ],
      "metadata": {
        "id": "QzxGss0W-9Cz"
      }
    },
    {
      "cell_type": "code",
      "source": [
        "numerador = int(input('Digite o numerador: '))\n",
        "denominador = int(input('Digite o denominador (OBS: o valor não pode ser nulo): '))\n",
        "print(numerador//denominador)"
      ],
      "metadata": {
        "colab": {
          "base_uri": "https://localhost:8080/"
        },
        "id": "5TtBktEb--P7",
        "outputId": "25260a5a-1bea-4029-d2b5-07a94a95ae3c"
      },
      "execution_count": 10,
      "outputs": [
        {
          "output_type": "stream",
          "name": "stdout",
          "text": [
            "Digite o numerador: 20\n",
            "Digite o denominador (OBS: o valor não pode ser nulo): 15\n",
            "1\n"
          ]
        }
      ]
    },
    {
      "cell_type": "markdown",
      "source": [
        "8."
      ],
      "metadata": {
        "id": "mmSELiv9_Hr_"
      }
    },
    {
      "cell_type": "code",
      "source": [
        "numerador = int(input('Digite o numerador: '))\n",
        "denominador = int(input('Digite o denominador (OBS: o valor não pode ser nulo): '))\n",
        "print(numerador%denominador)"
      ],
      "metadata": {
        "colab": {
          "base_uri": "https://localhost:8080/"
        },
        "id": "odjTyAhH_IrZ",
        "outputId": "75c1360f-9f45-4f06-af9b-4116aec802cc"
      },
      "execution_count": 13,
      "outputs": [
        {
          "output_type": "stream",
          "name": "stdout",
          "text": [
            "Digite o numerador: 3\n",
            "Digite o denominador (OBS: o valor não pode ser nulo): 6\n",
            "3\n"
          ]
        }
      ]
    },
    {
      "cell_type": "markdown",
      "source": [
        "9."
      ],
      "metadata": {
        "id": "pYyGmJ7q_isC"
      }
    },
    {
      "cell_type": "code",
      "source": [
        "nota_1 = float(input('Digite a 1° nota: '))\n",
        "nota_2 = float(input('Digite a 2° nota: '))\n",
        "nota_3 = float(input('Digite a 3° nota: '))\n",
        "print(f'Média {(nota_1+nota_2+nota_3)/3}.')"
      ],
      "metadata": {
        "colab": {
          "base_uri": "https://localhost:8080/"
        },
        "id": "sMMpCSL4_jo_",
        "outputId": "27e94612-cfef-4793-8586-e57c048df597"
      },
      "execution_count": 14,
      "outputs": [
        {
          "output_type": "stream",
          "name": "stdout",
          "text": [
            "Digite a 1° nota: 5\n",
            "Digite a 2° nota: 6\n",
            "Digite a 3° nota: 7\n",
            "Média 6.0.\n"
          ]
        }
      ]
    },
    {
      "cell_type": "markdown",
      "source": [
        "10."
      ],
      "metadata": {
        "id": "e3qjg3vD_rPl"
      }
    },
    {
      "cell_type": "code",
      "source": [
        "media_ponderada = (5*1 + 12*2 + 20*3 + 15*4) / (1+2+3+4)\n",
        "print(f'Média {media_ponderada}.')"
      ],
      "metadata": {
        "colab": {
          "base_uri": "https://localhost:8080/"
        },
        "id": "t7BhlJs__su7",
        "outputId": "79a429ff-307e-46be-98c2-8c42d5df11ec"
      },
      "execution_count": 15,
      "outputs": [
        {
          "output_type": "stream",
          "name": "stdout",
          "text": [
            "Média 14.9.\n"
          ]
        }
      ]
    },
    {
      "cell_type": "markdown",
      "source": [
        "# **Editando textos**"
      ],
      "metadata": {
        "id": "ZUMCjG7b_xEV"
      }
    },
    {
      "cell_type": "markdown",
      "source": [
        "1."
      ],
      "metadata": {
        "id": "LdRaWJI9_0mC"
      }
    },
    {
      "cell_type": "code",
      "source": [
        "frase = 'Olá Python!'\n",
        "print(frase)"
      ],
      "metadata": {
        "colab": {
          "base_uri": "https://localhost:8080/"
        },
        "id": "5oFGXtxu_1xz",
        "outputId": "2a3f160a-7564-493c-8dea-37f4216ff945"
      },
      "execution_count": 16,
      "outputs": [
        {
          "output_type": "stream",
          "name": "stdout",
          "text": [
            "Olá Python!\n"
          ]
        }
      ]
    },
    {
      "cell_type": "markdown",
      "source": [
        "2."
      ],
      "metadata": {
        "id": "RBFBwGeb_2jP"
      }
    },
    {
      "cell_type": "code",
      "source": [
        "frase = input('Digite uma frase: ')\n",
        "print(frase)"
      ],
      "metadata": {
        "colab": {
          "base_uri": "https://localhost:8080/"
        },
        "id": "_z4s8erY_3nN",
        "outputId": "97961381-1f20-43d9-9968-31d07ad1b2ed"
      },
      "execution_count": 17,
      "outputs": [
        {
          "output_type": "stream",
          "name": "stdout",
          "text": [
            "Digite uma frase: esse exercício vai pro github\n",
            "esse exercício vai pro github\n"
          ]
        }
      ]
    },
    {
      "cell_type": "markdown",
      "source": [
        "3."
      ],
      "metadata": {
        "id": "PTuJLaZV_37C"
      }
    },
    {
      "cell_type": "code",
      "source": [
        "frase = input('Digite uma frase: ')\n",
        "print(frase.upper())"
      ],
      "metadata": {
        "colab": {
          "base_uri": "https://localhost:8080/"
        },
        "id": "VXDRhQzY_5AJ",
        "outputId": "53743f08-e9bc-49eb-8ea4-d6829c3c71cd"
      },
      "execution_count": 18,
      "outputs": [
        {
          "output_type": "stream",
          "name": "stdout",
          "text": [
            "Digite uma frase: tudo em caixa alta\n",
            "TUDO EM CAIXA ALTA\n"
          ]
        }
      ]
    },
    {
      "cell_type": "markdown",
      "source": [
        "4."
      ],
      "metadata": {
        "id": "JclPLKvT_5Uy"
      }
    },
    {
      "cell_type": "code",
      "source": [
        "frase = input('Digite uma frase: ')\n",
        "print(frase.lower())"
      ],
      "metadata": {
        "colab": {
          "base_uri": "https://localhost:8080/"
        },
        "id": "NoEA9Emu_69m",
        "outputId": "e3aa5095-40c4-4cc0-f32e-9579da45b4fa"
      },
      "execution_count": 19,
      "outputs": [
        {
          "output_type": "stream",
          "name": "stdout",
          "text": [
            "Digite uma frase: agora em caixa baixa\n",
            "agora em caixa baixa\n"
          ]
        }
      ]
    },
    {
      "cell_type": "markdown",
      "source": [
        "5."
      ],
      "metadata": {
        "id": "6Jlzrr4n_7kC"
      }
    },
    {
      "cell_type": "code",
      "source": [
        "frase = ' Olá Python!  '\n",
        "print(frase.strip())"
      ],
      "metadata": {
        "colab": {
          "base_uri": "https://localhost:8080/"
        },
        "id": "i8_ownFL_8kg",
        "outputId": "92d895bd-aa9c-4009-82b5-e505582d4b3a"
      },
      "execution_count": 20,
      "outputs": [
        {
          "output_type": "stream",
          "name": "stdout",
          "text": [
            "Olá Python!\n"
          ]
        }
      ]
    },
    {
      "cell_type": "markdown",
      "source": [
        "6."
      ],
      "metadata": {
        "id": "WOA47vsr_9Y5"
      }
    },
    {
      "cell_type": "code",
      "source": [
        "frase = input('Digite uma frase: ')\n",
        "print(frase.strip())"
      ],
      "metadata": {
        "colab": {
          "base_uri": "https://localhost:8080/"
        },
        "id": "JtEnf2jG_-fQ",
        "outputId": "c16afd5a-8a05-41c0-bcb9-e8420fec4870"
      },
      "execution_count": 21,
      "outputs": [
        {
          "output_type": "stream",
          "name": "stdout",
          "text": [
            "Digite uma frase: Olá Mundo!\n",
            "Olá Mundo!\n"
          ]
        }
      ]
    },
    {
      "cell_type": "markdown",
      "source": [
        "7."
      ],
      "metadata": {
        "id": "34u4wnVQ_-yA"
      }
    },
    {
      "cell_type": "code",
      "source": [
        "frase = input('Digite uma frase: ')\n",
        "print(frase.strip().lower())"
      ],
      "metadata": {
        "colab": {
          "base_uri": "https://localhost:8080/"
        },
        "id": "aMiaDb2IAAE4",
        "outputId": "98d0e1a2-921b-47c6-e535-b248e8e6edb9"
      },
      "execution_count": 22,
      "outputs": [
        {
          "output_type": "stream",
          "name": "stdout",
          "text": [
            "Digite uma frase: Olá Mundo!\n",
            "olá mundo!\n"
          ]
        }
      ]
    },
    {
      "cell_type": "markdown",
      "source": [
        "8."
      ],
      "metadata": {
        "id": "KkACBQMhAAXA"
      }
    },
    {
      "cell_type": "code",
      "source": [
        "frase = input('Digite uma frase: ')\n",
        "print(frase.lower().replace('e','f'))"
      ],
      "metadata": {
        "colab": {
          "base_uri": "https://localhost:8080/"
        },
        "id": "CW1wmOf8ABIY",
        "outputId": "92349929-0d1c-4467-ddda-c62c2e75a1ed"
      },
      "execution_count": 23,
      "outputs": [
        {
          "output_type": "stream",
          "name": "stdout",
          "text": [
            "Digite uma frase: lembra daquilo que te falei?\n",
            "lfmbra daquilo quf tf falfi?\n"
          ]
        }
      ]
    },
    {
      "cell_type": "markdown",
      "source": [
        "9."
      ],
      "metadata": {
        "id": "FUjSXel2ABcS"
      }
    },
    {
      "cell_type": "code",
      "source": [
        "frase = input('Digite uma frase: ')\n",
        "print(frase.lower().replace('a',chr(64)))"
      ],
      "metadata": {
        "colab": {
          "base_uri": "https://localhost:8080/"
        },
        "id": "wy8IOeIOACRw",
        "outputId": "f715f6d7-38ea-4cab-db35-f4156c606765"
      },
      "execution_count": 24,
      "outputs": [
        {
          "output_type": "stream",
          "name": "stdout",
          "text": [
            "Digite uma frase: não lembro, acho que eu esqueci\n",
            "não lembro, @cho que eu esqueci\n"
          ]
        }
      ]
    },
    {
      "cell_type": "markdown",
      "source": [
        "10."
      ],
      "metadata": {
        "id": "0c9Pccx1ACzH"
      }
    },
    {
      "cell_type": "code",
      "source": [
        "frase = input('Digite uma frase: ')\n",
        "print(frase.lower().replace('s',chr(36)))"
      ],
      "metadata": {
        "colab": {
          "base_uri": "https://localhost:8080/"
        },
        "id": "z80tQlsTADzQ",
        "outputId": "5b457775-1dd5-4b9d-d003-3aaeaf65b6dc"
      },
      "execution_count": 25,
      "outputs": [
        {
          "output_type": "stream",
          "name": "stdout",
          "text": [
            "Digite uma frase: quem sabe depois você lembra de novo  ;)\n",
            "quem $abe depoi$ você lembra de novo  ;)\n"
          ]
        }
      ]
    }
  ]
}